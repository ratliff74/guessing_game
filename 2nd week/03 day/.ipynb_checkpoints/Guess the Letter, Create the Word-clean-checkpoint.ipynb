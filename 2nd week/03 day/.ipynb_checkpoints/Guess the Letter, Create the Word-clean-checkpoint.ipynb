{
 "cells": [
  {
   "cell_type": "markdown",
   "metadata": {},
   "source": [
    "**Create a Letter Guessing Game**\n",
    "\n",
    "Create a program that allows a user 7 chances to guess the correct word. If they do not guess the word after 7 tries, the player loses and the program will print the correct word. Otherwise, the play wins and the game.\n",
    "\n",
    "**How to build the program**\n",
    "* When you start the game, you will need to select a random word from a list of at least 10 words (You have full control over which words you want to use for you program). This will be your secret word. Your secret word will be represented in the program as a group of underscores. For as long as the word is, you should also have that many underscores. \n",
    "\n",
    "* Once the word is selected, your game will commence. Perform a Google search to figure out how to select a random word from a list using Python.<br>\n",
    "**Hint** There's package you can import into your application that does this for you.\n",
    "\n",
    "* The end user will have a total of 7 chances to guess the correct letter from the secret word. If the end user makes 7 incorrect guesses, the game will end.\n",
    "\n",
    "* As you guess the correct letters, the letters you have guess will then take place of the underscores that letter represents. <br>\n",
    "**For Example**: If your secret word is 'watermelon' and  so far you have guessed the letters 'a' and 'e', the word you're trying to guess will appear as follows: _ a _ e _ _ e _ _ _.<br>\n",
    "**Keep in mind** that if you guess a letter that appears more than once in your secret word, make sure that the letter is populated anywhere that letter would be."
   ]
  },
  {
   "cell_type": "code",
   "execution_count": null,
   "metadata": {},
   "outputs": [],
   "source": [
    "# 1. Make a program that selects a word from a list of words\n",
    "\n",
    "# 2. From each category, select a random word\n",
    "\n",
    "# 3. Accept user input that asks the user to type in a category\n",
    "\n",
    "# randomly_selected_word = \"orange\"\n",
    "\n",
    "# 4. _ _ _ _ _ _\n",
    "\n",
    "# 5. if you make a correct choice = \"o\" => o _ _ _ _ _\n",
    "\n",
    "\n",
    "# randomly_selected_word = \"watermelon\"\n",
    "\n",
    "# 6. _ _ _ _ _ _ _ _ _ _ _\n",
    "\n",
    "# 7. if you make a correct choice = \"e\" => _ _ _ e _ _ e _ _ _\n",
    "\n",
    "# 8. 7 attempts\n",
    "\n",
    "# 9. if you exhausted all 7 choices, show the correct word "
   ]
  },
  {
   "cell_type": "code",
   "execution_count": null,
   "metadata": {},
   "outputs": [
    {
     "name": "stdout",
     "output_type": "stream",
     "text": [
      "You have 7 chances to guess the correct letter from the secret word.\n",
      "After 7 incorrect guesses, the game will end. \n",
      "============================================================\n",
      "_ _ _ _ _ _\n",
      "pick a letter: x\n",
      "you have this many guesses left: 6\n"
     ]
    }
   ],
   "source": [
    "import random\n",
    "\n",
    "def show_instructions():\n",
    "    print(\"\"\"You have 7 chances to guess the correct letter from the secret word.\n",
    "After 7 incorrect guesses, the game will end. \"\"\")\n",
    "    print('='*60)\n",
    "\n",
    "    \n",
    "def random_word():    \n",
    "    my_list = [\"apple\", 'banana', 'watermelon', 'strawberry', 'blueberry', 'pear', 'kiwi', 'grapes', 'blackberry', 'mango']\n",
    "    secret_word = list(random.choice(my_list))\n",
    "    word_to_guess = ['_' for letter in secret_word]\n",
    "    print(\" \".join(word_to_guess))\n",
    "    return(secret_word)\n",
    "\n",
    "            \n",
    "            \n",
    "def wordplay():\n",
    "    \n",
    "    show_instructions()\n",
    "    secret_word = random_word()\n",
    "\n",
    "    guesses_left = 7\n",
    "    while guesses_left > 0: \n",
    "        decision = input(\"pick a letter: \").lower()\n",
    "        if decision not in secret_word:\n",
    "            guesses_left -= 1\n",
    "            print(\"you have this many guesses left:\", + guesses_left)\n",
    "           \n",
    "        elif decision in secret_word:\n",
    "            #all characters from the input\n",
    "            #secret_word taking one at a time\n",
    "            \n",
    "            for character in secret_word:\n",
    "                if character in secret_word:\n",
    "                    print(character,end=\" \")\n",
    "            print(\"nice!\")\n",
    "#         print(secret_word)\n",
    "\n",
    "    \n",
    "    \n",
    "   \n",
    "wordplay()"
   ]
  },
  {
   "cell_type": "code",
   "execution_count": 1,
   "metadata": {},
   "outputs": [],
   "source": [
    "stuff = [\"mango\", 'pear', 'watermelon']\n",
    "\n",
    "import random"
   ]
  },
  {
   "cell_type": "code",
   "execution_count": 26,
   "metadata": {},
   "outputs": [
    {
     "data": {
      "text/plain": [
       "'pear'"
      ]
     },
     "execution_count": 26,
     "metadata": {},
     "output_type": "execute_result"
    }
   ],
   "source": [
    "random.choice(stuff)"
   ]
  },
  {
   "cell_type": "code",
   "execution_count": null,
   "metadata": {},
   "outputs": [],
   "source": [
    "p _ _ _"
   ]
  },
  {
   "cell_type": "code",
   "execution_count": 1,
   "metadata": {},
   "outputs": [
    {
     "ename": "SyntaxError",
     "evalue": "invalid syntax (Temp/ipykernel_1340/641053119.py, line 1)",
     "output_type": "error",
     "traceback": [
      "\u001b[1;36m  File \u001b[1;32m\"C:\\Users\\andre\\AppData\\Local\\Temp/ipykernel_1340/641053119.py\"\u001b[1;36m, line \u001b[1;32m1\u001b[0m\n\u001b[1;33m    _ _ _ e _ _ e _ _ _\u001b[0m\n\u001b[1;37m      ^\u001b[0m\n\u001b[1;31mSyntaxError\u001b[0m\u001b[1;31m:\u001b[0m invalid syntax\n"
     ]
    }
   ],
   "source": [
    "_ _ _ e _ _ e _ _ _"
   ]
  },
  {
   "cell_type": "code",
   "execution_count": 57,
   "metadata": {},
   "outputs": [
    {
     "name": "stdout",
     "output_type": "stream",
     "text": [
      "_ _ _ _ _ "
     ]
    }
   ],
   "source": [
    "import random\n",
    "\n",
    "def show_instructions():\n",
    "    print(\"Type 'letter' for the guess.\")\n",
    "    print('='*60)\n",
    "    \n",
    "my_list = [\"apple\", 'banana', 'watermelon', 'strawberry', 'blueberry', 'pear', 'kiwi', 'grapes', 'blackberry', 'mango']\n",
    "# print(random.choice(my_list))\n",
    "\n",
    "      \n",
    "    \n",
    "# print(list(random.choice(my_list)))\n",
    "\n",
    "word = list(random.choice(my_list))\n",
    "\n",
    "for i in word:\n",
    "    print(\"_\", end=\" \")\n",
    "\n"
   ]
  },
  {
   "cell_type": "code",
   "execution_count": null,
   "metadata": {},
   "outputs": [],
   "source": [
    "import random\n",
    "\n",
    "def show_instructions():\n",
    "    print(\"Type 'letter' for the guess.\")\n",
    "    print('='*60)\n",
    "    \n",
    "my_list = [\"apple\", 'banana', 'watermelon', 'strawberry', 'blueberry', 'pear', 'kiwi', 'grapes', 'blackberry', 'mango']\n",
    "# print(random.choice(my_list))\n",
    "\n",
    "      \n",
    "    \n",
    "# print(list(random.choice(my_list)))\n",
    "\n",
    "word = list(random.choice(my_list))\n",
    "\n",
    "for i in word:\n",
    "    print(\"_\", end=\" \")\n",
    "#  guess starts at 7 and counts down top 0   \n",
    "def guess(wordplay):\n",
    "    start = 7\n",
    "    while start > 0:\n",
    "        print(start)\n",
    "        start-=1\n",
    "    \n",
    "def lose(wordplay):\n",
    "    wordplay\n",
    "\n",
    "def wordplay(word):\n",
    "    list(range(0, 8))\n"
   ]
  },
  {
   "cell_type": "code",
   "execution_count": 1,
   "metadata": {},
   "outputs": [],
   "source": [
    "def random_word():    \n",
    "    my_list = [\"apple\", 'banana', 'watermelon', 'strawberry', 'blueberry', 'pear', 'kiwi', 'grapes', 'blackberry', 'mango']\n",
    "    secret_word = list(random.choice(my_list))\n",
    "\n",
    "    word_to_guess = ['_' for letter in secret_word]\n",
    "    return word_to_guess\n",
    "    print(secret_word)"
   ]
  },
  {
   "cell_type": "code",
   "execution_count": 2,
   "metadata": {},
   "outputs": [],
   "source": [
    "import random\n",
    "\n",
    "def show_instructions():\n",
    "    print(\"\"\"You have 7 chances to guess the correct letter from the secret word.\n",
    "After 7 incorrect guesses, the game will end. \"\"\")\n",
    "    print('='*60)\n",
    "\n",
    "    \n",
    "def random_word():    \n",
    "    my_list = [\"apple\", 'banana', 'watermelon', 'strawberry', 'blueberry', 'pear', 'kiwi', 'grapes', 'blackberry', 'mango']\n",
    "    secret_word =list(random.choice(my_list))\n",
    "    print(secret_word)\n",
    "    word_to_guess = ['_' for letter in word]\n",
    "    \n",
    "    return secret_word\n",
    "\n",
    "\n",
    "\n",
    "\n",
    "    for i in word:\n",
    "        print(\"_\", end=\" \")\n",
    "def correct(guess):\n",
    "    random_word.append(letter)\n",
    "    \n",
    "def incorrect(guess):\n",
    "    guess == False \n",
    "    \n",
    "    \n",
    "def guess(incorrect):\n",
    "    for i in incorrect:\n",
    "        start = 7\n",
    "        while start > 0:\n",
    "            print(start)\n",
    "            start-=1\n",
    "def letter():\n",
    "    \n",
    "    \n",
    "def wordplay():\n",
    "    \n",
    "    show_instructions()\n",
    "    word = random_word()\n",
    "    \n",
    "decision = input(\"Pick a letter?\")\n",
    " \n",
    "    \n",
    "wordplay()"
   ]
  },
  {
   "cell_type": "code",
   "execution_count": 1,
   "metadata": {
    "scrolled": false
   },
   "outputs": [
    {
     "data": {
      "text/plain": [
       "['p', 'e', 'a', 'r', 'e']"
      ]
     },
     "execution_count": 1,
     "metadata": {},
     "output_type": "execute_result"
    }
   ],
   "source": [
    "word = \"peare\"\n",
    "list(word)\n"
   ]
  },
  {
   "cell_type": "code",
   "execution_count": 4,
   "metadata": {},
   "outputs": [],
   "source": [
    "word_to_guess = ['_' for letter in word]"
   ]
  },
  {
   "cell_type": "code",
   "execution_count": 5,
   "metadata": {},
   "outputs": [
    {
     "data": {
      "text/plain": [
       "['_', '_', '_', '_', '_']"
      ]
     },
     "execution_count": 5,
     "metadata": {},
     "output_type": "execute_result"
    }
   ],
   "source": [
    "word_to_guess"
   ]
  },
  {
   "cell_type": "code",
   "execution_count": 6,
   "metadata": {},
   "outputs": [
    {
     "data": {
      "text/plain": [
       "'_ _ _ _ _'"
      ]
     },
     "execution_count": 6,
     "metadata": {},
     "output_type": "execute_result"
    }
   ],
   "source": [
    "\" \".join(word_to_guess)"
   ]
  },
  {
   "cell_type": "code",
   "execution_count": 7,
   "metadata": {},
   "outputs": [
    {
     "name": "stdout",
     "output_type": "stream",
     "text": [
      "what letter do you want to guess? e\n"
     ]
    }
   ],
   "source": [
    "guess = input(\"what letter do you want to guess? \")"
   ]
  },
  {
   "cell_type": "code",
   "execution_count": 15,
   "metadata": {},
   "outputs": [
    {
     "data": {
      "text/plain": [
       "'e'"
      ]
     },
     "execution_count": 15,
     "metadata": {},
     "output_type": "execute_result"
    }
   ],
   "source": [
    "guess"
   ]
  },
  {
   "cell_type": "code",
   "execution_count": 3,
   "metadata": {},
   "outputs": [
    {
     "ename": "NameError",
     "evalue": "name 'word' is not defined",
     "output_type": "error",
     "traceback": [
      "\u001b[1;31m---------------------------------------------------------------------------\u001b[0m",
      "\u001b[1;31mNameError\u001b[0m                                 Traceback (most recent call last)",
      "\u001b[1;32m~\\AppData\\Local\\Temp/ipykernel_7588/1195114738.py\u001b[0m in \u001b[0;36m<module>\u001b[1;34m\u001b[0m\n\u001b[1;32m----> 1\u001b[1;33m \u001b[1;32mfor\u001b[0m \u001b[0midx\u001b[0m\u001b[1;33m,\u001b[0m \u001b[0mletter\u001b[0m \u001b[1;32min\u001b[0m \u001b[0menumerate\u001b[0m\u001b[1;33m(\u001b[0m\u001b[0mword\u001b[0m\u001b[1;33m)\u001b[0m\u001b[1;33m:\u001b[0m\u001b[1;33m\u001b[0m\u001b[1;33m\u001b[0m\u001b[0m\n\u001b[0m\u001b[0;32m      2\u001b[0m     \u001b[1;32mif\u001b[0m \u001b[0mguess\u001b[0m \u001b[1;33m==\u001b[0m \u001b[0mletter\u001b[0m\u001b[1;33m:\u001b[0m\u001b[1;33m\u001b[0m\u001b[1;33m\u001b[0m\u001b[0m\n\u001b[0;32m      3\u001b[0m \u001b[1;33m\u001b[0m\u001b[0m\n\u001b[0;32m      4\u001b[0m         \u001b[0mprint\u001b[0m\u001b[1;33m(\u001b[0m\u001b[0midx\u001b[0m\u001b[1;33m,\u001b[0m \u001b[0mletter\u001b[0m\u001b[1;33m)\u001b[0m\u001b[1;33m\u001b[0m\u001b[1;33m\u001b[0m\u001b[0m\n",
      "\u001b[1;31mNameError\u001b[0m: name 'word' is not defined"
     ]
    }
   ],
   "source": [
    "for idx, letter in enumerate(word):\n",
    "    if guess == letter:\n",
    "        \n",
    "        print(idx, letter)"
   ]
  },
  {
   "cell_type": "code",
   "execution_count": null,
   "metadata": {},
   "outputs": [],
   "source": []
  },
  {
   "cell_type": "code",
   "execution_count": 1,
   "metadata": {},
   "outputs": [],
   "source": [
    "def random_word():    \n",
    "    my_list = [\"apple\", 'banana', 'watermelon', 'strawberry', 'blueberry', 'pear', 'kiwi', 'grapes', 'blackberry', 'mango']\n",
    "    secret_word = list(random.choice(my_list))\n",
    "    print(secret_word)\n",
    "    word_to_guess = ['_' for letter in secret_word]\n",
    "    return word\n",
    "\n",
    "\n",
    "\n",
    "\n",
    "    "
   ]
  },
  {
   "cell_type": "code",
   "execution_count": null,
   "metadata": {},
   "outputs": [],
   "source": []
  },
  {
   "cell_type": "code",
   "execution_count": null,
   "metadata": {},
   "outputs": [],
   "source": []
  },
  {
   "cell_type": "code",
   "execution_count": 2,
   "metadata": {},
   "outputs": [],
   "source": [
    "import random\n",
    "\n",
    "def show_instructions():\n",
    "    print(\"\"\"You have 7 chances to guess the correct letter from the secret word.\n",
    "After 7 incorrect guesses, the game will end. \"\"\")\n",
    "    print('='*60)\n",
    "\n",
    "    \n",
    "def random_word():    \n",
    "    my_list = [\"apple\", 'banana', 'watermelon', 'strawberry', 'blueberry', 'pear', 'kiwi', 'grapes', 'blackberry', 'mango']\n",
    "    secret_word = list(random.choice(my_list))\n",
    "    word_to_guess = ['_' for letter in secret_word]\n",
    "    print(\" \".join(word_to_guess))\n",
    "    return(secret_word)\n",
    "\n",
    "            \n",
    "            \n",
    "def wordplay():\n",
    "    \n",
    "    show_instructions()\n",
    "    secret_word = random_word()\n",
    "\n",
    "    guesses_left = 7\n",
    "    while guesses_left > 0: \n",
    "        decision = input(\"pick a letter\").lower()\n",
    "        if decision not in secret_word:\n",
    "            guesses_left -= 1\n",
    "            if guesses_left == 0:\n",
    "                print(secret_word)\n",
    "        elif decision in secret_word:\n",
    "            decision.replace(\" \")"
   ]
  },
  {
   "cell_type": "code",
   "execution_count": null,
   "metadata": {},
   "outputs": [],
   "source": []
  },
  {
   "cell_type": "code",
   "execution_count": 2,
   "metadata": {},
   "outputs": [],
   "source": [
    "import random\n",
    "\n",
    "def show_instructions():\n",
    "    print(\"\"\"You have 7 chances to guess the correct letter from the secret word.\n",
    "After 7 incorrect guesses, the game will end. \"\"\")\n",
    "    print('='*60)\n",
    "\n",
    "    \n",
    "def random_word():    \n",
    "    my_list = [\"apple\", 'banana', 'watermelon', 'strawberry', 'blueberry', 'pear', 'kiwi', 'grapes', 'blackberry', 'mango']\n",
    "    secret_word = list(random.choice(my_list))\n",
    "    word_to_guess = ['_' for letter in secret_word]\n",
    "    print(\" \".join(word_to_guess))\n",
    "    return(secret_word)\n",
    "\n",
    "            \n",
    "            \n",
    "def wordplay():\n",
    "    \n",
    "    show_instructions()\n",
    "    secret_word = random_word()\n",
    "\n",
    "    guesses_left = 7\n",
    "    while guesses_left > 0: \n",
    "        decision = input(\"pick a letter: \").lower()\n",
    "        if decision not in secret_word:\n",
    "            guesses_left -= 1\n",
    "            print(\"you have this many guesses left:\", + guesses_left)\n",
    "            guesses_left == 0\n",
    "            print(secret_word)\n",
    "        elif decision in secret_word:\n",
    "            input(charcter in secret_word)\n",
    "            #all characters from the input\n",
    "            #secret_word taking one at a time\n",
    "            \n",
    "            \n",
    "    \n",
    "    \n",
    "   \n"
   ]
  },
  {
   "cell_type": "code",
   "execution_count": 7,
   "metadata": {},
   "outputs": [],
   "source": []
  }
 ],
 "metadata": {
  "kernelspec": {
   "display_name": "Python 3 (ipykernel)",
   "language": "python",
   "name": "python3"
  },
  "language_info": {
   "codemirror_mode": {
    "name": "ipython",
    "version": 3
   },
   "file_extension": ".py",
   "mimetype": "text/x-python",
   "name": "python",
   "nbconvert_exporter": "python",
   "pygments_lexer": "ipython3",
   "version": "3.9.12"
  }
 },
 "nbformat": 4,
 "nbformat_minor": 2
}
